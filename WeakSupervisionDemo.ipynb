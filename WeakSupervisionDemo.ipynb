{
 "cells": [
  {
   "cell_type": "markdown",
   "metadata": {
    "toc": "true"
   },
   "source": [
    "# Table of Contents\n",
    " <p><div class=\"lev1 toc-item\"><a href=\"#Demo\" data-toc-modified-id=\"Demo-1\"><span class=\"toc-item-num\">1&nbsp;&nbsp;</span>Demo</a></div><div class=\"lev2 toc-item\"><a href=\"#Load-the-necessary-packages\" data-toc-modified-id=\"Load-the-necessary-packages-11\"><span class=\"toc-item-num\">1.1&nbsp;&nbsp;</span>Load the necessary packages</a></div><div class=\"lev2 toc-item\"><a href=\"#Define-the-toy-model-parameters-and-generate-samples\" data-toc-modified-id=\"Define-the-toy-model-parameters-and-generate-samples-12\"><span class=\"toc-item-num\">1.2&nbsp;&nbsp;</span>Define the toy model parameters and generate samples</a></div><div class=\"lev2 toc-item\"><a href=\"#Preprocess-the-data\" data-toc-modified-id=\"Preprocess-the-data-13\"><span class=\"toc-item-num\">1.3&nbsp;&nbsp;</span>Preprocess the data</a></div><div class=\"lev3 toc-item\"><a href=\"#Combine-datasets\" data-toc-modified-id=\"Combine-datasets-131\"><span class=\"toc-item-num\">1.3.1&nbsp;&nbsp;</span>Combine datasets</a></div><div class=\"lev3 toc-item\"><a href=\"#Split-the-initial-sample-into-training-and-validation-sets\" data-toc-modified-id=\"Split-the-initial-sample-into-training-and-validation-sets-132\"><span class=\"toc-item-num\">1.3.2&nbsp;&nbsp;</span>Split the initial sample into training and validation sets</a></div><div class=\"lev3 toc-item\"><a href=\"#Scale-and-center-the-data\" data-toc-modified-id=\"Scale-and-center-the-data-133\"><span class=\"toc-item-num\">1.3.3&nbsp;&nbsp;</span>Scale and center the data</a></div><div class=\"lev2 toc-item\"><a href=\"#Define-the-artificial-neural-nets\" data-toc-modified-id=\"Define-the-artificial-neural-nets-14\"><span class=\"toc-item-num\">1.4&nbsp;&nbsp;</span>Define the artificial neural nets</a></div><div class=\"lev3 toc-item\"><a href=\"#Fully-supervised\" data-toc-modified-id=\"Fully-supervised-141\"><span class=\"toc-item-num\">1.4.1&nbsp;&nbsp;</span>Fully supervised</a></div><div class=\"lev3 toc-item\"><a href=\"#Weakly-supervised\" data-toc-modified-id=\"Weakly-supervised-142\"><span class=\"toc-item-num\">1.4.2&nbsp;&nbsp;</span>Weakly supervised</a></div><div class=\"lev2 toc-item\"><a href=\"#Train-the-networks\" data-toc-modified-id=\"Train-the-networks-15\"><span class=\"toc-item-num\">1.5&nbsp;&nbsp;</span>Train the networks</a></div><div class=\"lev3 toc-item\"><a href=\"#Fully-supervised\" data-toc-modified-id=\"Fully-supervised-151\"><span class=\"toc-item-num\">1.5.1&nbsp;&nbsp;</span>Fully supervised</a></div><div class=\"lev3 toc-item\"><a href=\"#Weakly-supervised\" data-toc-modified-id=\"Weakly-supervised-152\"><span class=\"toc-item-num\">1.5.2&nbsp;&nbsp;</span>Weakly supervised</a></div><div class=\"lev2 toc-item\"><a href=\"#Testing-the-results\" data-toc-modified-id=\"Testing-the-results-16\"><span class=\"toc-item-num\">1.6&nbsp;&nbsp;</span>Testing the results</a></div><div class=\"lev3 toc-item\"><a href=\"#Make-the-predictions\" data-toc-modified-id=\"Make-the-predictions-161\"><span class=\"toc-item-num\">1.6.1&nbsp;&nbsp;</span>Make the predictions</a></div><div class=\"lev3 toc-item\"><a href=\"#ROC-curves\" data-toc-modified-id=\"ROC-curves-162\"><span class=\"toc-item-num\">1.6.2&nbsp;&nbsp;</span>ROC curves</a></div><div class=\"lev3 toc-item\"><a href=\"#AUC\" data-toc-modified-id=\"AUC-163\"><span class=\"toc-item-num\">1.6.3&nbsp;&nbsp;</span>AUC</a></div><div class=\"lev3 toc-item\"><a href=\"#Plot-the-results\" data-toc-modified-id=\"Plot-the-results-164\"><span class=\"toc-item-num\">1.6.4&nbsp;&nbsp;</span>Plot the results</a></div>"
   ]
  },
  {
   "cell_type": "markdown",
   "metadata": {},
   "source": [
    "# Demo\n",
    "This notebook walks through the toy model used in the paper, as well as the basics of how to use the weakly supervised loss function. Our work was motivated by [http://arxiv.org/abs/1702.00414] [DNRS](http://arxiv.org/abs/1702.00414). If you use our results, pease cite them as well.\n",
    "\n",
    "## Load the necessary packages\n",
    "To run this notebook, you need:\n",
    "* [Keras](https://keras.io/#installation)\n",
    "* Keras requires [TensorFlow](https://www.tensorflow.org/versions/r0.12/get_started/os_setup) or [Theano](http://deeplearning.net/software/theano/install.html)\n",
    "* [scikit-learn](http://scikit-learn.org/stable/)"
   ]
  },
  {
   "cell_type": "code",
   "execution_count": 1,
   "metadata": {
    "collapsed": true
   },
   "outputs": [],
   "source": [
    "%matplotlib inline\n",
    "\n",
    "import matplotlib.pyplot as plt\n",
    "plt.rcParams.update({'font.family':'cmr10','font.size': 13})\n",
    "plt.rcParams['axes.unicode_minus']=False\n",
    "\n",
    "import numpy as np"
   ]
  },
  {
   "cell_type": "code",
   "execution_count": 2,
   "metadata": {},
   "outputs": [
    {
     "name": "stderr",
     "output_type": "stream",
     "text": [
      "Using TensorFlow backend.\n"
     ]
    }
   ],
   "source": [
    "# Keras\n",
    "from keras.models import Sequential\n",
    "from keras.layers import Dense, Activation\n",
    "from keras.optimizers import SGD, Adam\n",
    "from keras.callbacks import ModelCheckpoint, EarlyStopping"
   ]
  },
  {
   "cell_type": "code",
   "execution_count": 3,
   "metadata": {
    "collapsed": true
   },
   "outputs": [],
   "source": [
    "#sci-kit learn\n",
    "from sklearn import metrics\n",
    "from sklearn.model_selection import train_test_split\n",
    "from sklearn.preprocessing import StandardScaler"
   ]
  },
  {
   "cell_type": "code",
   "execution_count": 4,
   "metadata": {
    "collapsed": true
   },
   "outputs": [],
   "source": [
    "# import the weak cost function and the sample generator\n",
    "import sys\n",
    "sys.path.append('Functions/')\n",
    "\n",
    "from SampleGenerators import *\n",
    "from WeakCostFunction import *"
   ]
  },
  {
   "cell_type": "markdown",
   "metadata": {},
   "source": [
    "## Define the toy model parameters and generate samples"
   ]
  },
  {
   "cell_type": "markdown",
   "metadata": {},
   "source": [
    "Our toy model contains two different classes which we want to classify. There are three features which we can use for the classification, and each of the features is bi-modal. The next cell shows the means and standard deviations for each of the three features and modes.\n",
    "\n",
    "Each line corresponds to one of the features. The two bracketed sets of numbers per line are the two modes. The numbers in (...) are the mean and standard deviation of the mode. The last number in the bracket is the fraction of events for that feature that correspond to that mode."
   ]
  },
  {
   "cell_type": "code",
   "execution_count": 5,
   "metadata": {
    "collapsed": true
   },
   "outputs": [],
   "source": [
    "# note, confusingly use set0 for class 1 and vice versa here...\n",
    "\n",
    "# class 1, three bimodal features, tuples represent mean & stddev, plus list contains amplt.\n",
    "set0nums = [[[(26,8),0.5],[(5,4),0.5]],                # x_1 (feature 1)\n",
    "            [[(0.09,0.04),0.5],[(-0.01,0.03),0.5]],    # x_2 (feature 2)\n",
    "            [[(0.45,0.04),0.5],[(0.08,0.05),0.5]]      # x_3 (feature 3)\n",
    "           ]\n",
    "\n",
    "# class 0, three bimodal features, tuples represent mean & stddev, plus list contains amplt.\n",
    "set1nums = [[[(18,7),0.5],[(38,9),0.5]],               # x_1 (feature 1)\n",
    "            [[(-0.06,0.04),0.5],[(0.15,0.03),0.5]],    # x_2 (feature 2)\n",
    "            [[(0.23,0.05),0.5],[(0.4,0.08),0.5]]       # x_3 (feature 3)\n",
    "           ]"
   ]
  },
  {
   "cell_type": "markdown",
   "metadata": {},
   "source": [
    "To get a sense of what these distributions look like, we will plot them below. First define the normal distrubtion as a function."
   ]
  },
  {
   "cell_type": "code",
   "execution_count": 6,
   "metadata": {
    "collapsed": true
   },
   "outputs": [],
   "source": [
    "def Gauss(x,mean,std):\n",
    "    return 1.0/np.sqrt(2*np.pi* std**2) * np.exp(-0.5*((x-mean)/std)**2)\n",
    "Gauss_vec = np.vectorize(Gauss)"
   ]
  },
  {
   "cell_type": "markdown",
   "metadata": {},
   "source": [
    "The distributions for the data are shown below for the three different features."
   ]
  },
  {
   "cell_type": "code",
   "execution_count": 7,
   "metadata": {
    "code_folding": []
   },
   "outputs": [
    {
     "data": {
      "image/png": "[encoded data removed]",
      "text/plain": [
       "<matplotlib.figure.Figure at 0x121462f90>"
      ]
     },
     "metadata": {},
     "output_type": "display_data"
    }
   ],
   "source": [
    "# Note - aren't using the `set0nums` and `set1nums` defined above... ?\n",
    "\n",
    "plt.figure(figsize=(8.5,3))\n",
    "plt.subplot(1,3,1)\n",
    "x=np.linspace(-20,80,1000)\n",
    "y1= 0.5*Gauss_vec(x,28,6) + 0.5*Gauss_vec(x,5,4)\n",
    "y0= 0.5*Gauss_vec(x,18,7) + 0.5*Gauss_vec(x,38,9)\n",
    "plt.plot(x,y1,label='Class:1')#,color='#FEE123')#,alpha=0.25)\n",
    "plt.plot(x,y0,label='Class:0')#,color='#185844')#,alpha=0.25)\n",
    "plt.xlabel(r'$x_{1}$',size=15)\n",
    "plt.minorticks_on()\n",
    "\n",
    "plt.legend(bbox_to_anchor=(2.5, -.35),ncol=2)\n",
    "\n",
    "plt.subplot(1,3,2)\n",
    "x=np.linspace(-.2,0.3,1000)\n",
    "y1_2= 0.5*Gauss_vec(x,0.09, 0.04) + 0.5*Gauss_vec(x,-0.01, 0.03)\n",
    "y0_2= 0.5*Gauss_vec(x, -0.06, 0.04) + 0.5*Gauss_vec(x, 0.15, 0.03)\n",
    "plt.plot(x,y1_2,label='Class:1')#,color='#FEE123')\n",
    "plt.plot(x,y0_2,label='Class:0')#,color='#185844')\n",
    "plt.xlabel(r'$x_{2}$',size=15)\n",
    "plt.xticks([-.2,0,.2,.4])\n",
    "plt.minorticks_on()\n",
    "\n",
    "plt.subplot(1,3,3)\n",
    "x=np.linspace(-.2,0.6,1000)\n",
    "y1_3= 0.5*Gauss_vec(x, 0.45, 0.04) + 0.5*Gauss_vec(x, 0.08, 0.05)\n",
    "y0_3= 0.5*Gauss_vec(x, 0.23, 0.05) + 0.5*Gauss_vec(x, 0.04, 0.08)\n",
    "plt.plot(x,y1_3,label='Class:1')#,color='#FEE123')\n",
    "plt.plot(x,y0_3,label='Class:0')#,color='#185844')\n",
    "plt.xlabel(r'$x_{3}$',size=15)\n",
    "plt.xlim(-.2,.6)\n",
    "plt.xticks([-.2,0,.2,.4,.6])\n",
    "plt.minorticks_on()\n",
    "\n",
    "plt.tight_layout()"
   ]
  },
  {
   "cell_type": "markdown",
   "metadata": {},
   "source": [
    "Now use the sample generator to make two datasets. The first, \"A\", will have 40% of the events drawn from the \"signal.\" Dataset \"B\" will have 70% drawn from the signal.\n",
    "\n",
    "To use the 'MakeMultiGSamples' function, the first two inputs are the background and signal means and standard deviations for both of the modes. The third input is the fraction of event that are signal, the 4th is what the label of those events are. The last number is the overall size of the sample."
   ]
  },
  {
   "cell_type": "code",
   "execution_count": 8,
   "metadata": {},
   "outputs": [
    {
     "name": "stdout",
     "output_type": "stream",
     "text": [
      "80000 120000\n",
      "Set1 shape: (80000, 4)\n",
      "Set2 shape: (120000, 4)\n",
      "140000 60000\n",
      "Set1 shape: (140000, 4)\n",
      "Set2 shape: (60000, 4)\n"
     ]
    }
   ],
   "source": [
    "# Note - here, initial signal fraction is always equal to label by definition...\n",
    "\n",
    "# Sets used for training and validation - note, 3rd arg is real fraction of signal,\n",
    "# 4th arg is the label, so experiment with that here...\n",
    "\n",
    "Set_A=MakeMultiGSamples(set0nums, set1nums, 0.4, 0.4, 200000)\n",
    "XTrainA = Set_A[:,:3]\n",
    "YTrainPercentageA = Set_A[:,4]\n",
    "YTrainA = Set_A[:,3]\n",
    "\n",
    "Set_B= MakeMultiGSamples(set0nums, set1nums, 0.7, 0.7, 200000)\n",
    "XTrainB = Set_B[:,:3]\n",
    "YTrainB = Set_B[:,3]\n",
    "YTrainPercentageB = Set_B[:,4]"
   ]
  },
  {
   "cell_type": "code",
   "execution_count": 9,
   "metadata": {},
   "outputs": [
    {
     "name": "stdout",
     "output_type": "stream",
     "text": [
      "110000 90000\n",
      "Set1 shape: (110000, 4)\n",
      "Set2 shape: (90000, 4)\n"
     ]
    }
   ],
   "source": [
    "# Note, global fraction above is 0.55, so...\n",
    "\n",
    "# Test set\n",
    "TestSet = MakeMultiGSamples(set0nums, set1nums, 0.55, 0.55, 200000)\n",
    "XTest = np.vstack([TestSet[:,:3], TestSet[:,:3]])\n",
    "YTest = np.append(TestSet[:,3], TestSet[:,3])"
   ]
  },
  {
   "cell_type": "markdown",
   "metadata": {},
   "source": [
    "## Preprocess the data"
   ]
  },
  {
   "cell_type": "markdown",
   "metadata": {},
   "source": [
    "### Combine datasets\n",
    "As shown in the text of the paper, it is key that there are multiple datasets with different fractions. However, for training, the two sets need to be combined together."
   ]
  },
  {
   "cell_type": "code",
   "execution_count": 10,
   "metadata": {
    "collapsed": true
   },
   "outputs": [],
   "source": [
    "# shuffle these?...\n",
    "\n",
    "X_Train_Initial = np.vstack([XTrainA, XTrainB])\n",
    "Y_Train_Fractions_Initial = np.append(YTrainPercentageA,YTrainPercentageB).flatten()\n",
    "Y_Train_Label_Initial = np.append(YTrainA,YTrainB).flatten()"
   ]
  },
  {
   "cell_type": "markdown",
   "metadata": {},
   "source": [
    "### Split the initial sample into training and validation sets"
   ]
  },
  {
   "cell_type": "code",
   "execution_count": 11,
   "metadata": {
    "collapsed": true
   },
   "outputs": [],
   "source": [
    "x_train, x_valid, y_trainBoth, y_validBoth = train_test_split(X_Train_Initial,\n",
    "                                                              np.vstack([Y_Train_Fractions_Initial,Y_Train_Label_Initial]).T,\n",
    "                                                              test_size=0.2                                                              \n",
    "                                                             )"
   ]
  },
  {
   "cell_type": "code",
   "execution_count": 12,
   "metadata": {
    "collapsed": true
   },
   "outputs": [],
   "source": [
    "y_train_Fraction = y_trainBoth[:,0]\n",
    "y_train_Label = y_trainBoth[:,1]\n",
    "\n",
    "y_valid_Fraction = y_validBoth[:,0]\n",
    "y_valid_Label = y_validBoth[:,1]"
   ]
  },
  {
   "cell_type": "markdown",
   "metadata": {},
   "source": [
    "### Scale and center the data"
   ]
  },
  {
   "cell_type": "code",
   "execution_count": 13,
   "metadata": {
    "collapsed": true
   },
   "outputs": [],
   "source": [
    "scalerFull = StandardScaler()\n",
    "x_trainScaled = scalerFull.fit_transform(x_train)\n",
    "x_validScaled = scalerFull.transform(x_valid)\n",
    "x_testScaled = scalerFull.transform(XTest)"
   ]
  },
  {
   "cell_type": "code",
   "execution_count": 14,
   "metadata": {},
   "outputs": [
    {
     "name": "stdout",
     "output_type": "stream",
     "text": [
      "(320000, 3)\n",
      "(80000, 3)\n",
      "(400000, 3)\n"
     ]
    }
   ],
   "source": [
    "print x_trainScaled.shape\n",
    "print x_validScaled.shape\n",
    "print x_testScaled.shape"
   ]
  },
  {
   "cell_type": "code",
   "execution_count": 15,
   "metadata": {},
   "outputs": [
    {
     "name": "stdout",
     "output_type": "stream",
     "text": [
      "[ -3.63509070e-14  -1.13908827e-14   2.72477700e-14]\n"
     ]
    }
   ],
   "source": [
    "print np.mean(x_trainScaled, axis=0)"
   ]
  },
  {
   "cell_type": "code",
   "execution_count": 16,
   "metadata": {},
   "outputs": [
    {
     "name": "stdout",
     "output_type": "stream",
     "text": [
      "[ 1.  1.  1.]\n"
     ]
    }
   ],
   "source": [
    "print np.std(x_trainScaled, axis=0)"
   ]
  },
  {
   "cell_type": "markdown",
   "metadata": {},
   "source": [
    "## Define the artificial neural nets\n",
    "In this section, we will use the Keras framework to define the networks.\n",
    "### Fully supervised"
   ]
  },
  {
   "cell_type": "code",
   "execution_count": 17,
   "metadata": {
    "collapsed": true
   },
   "outputs": [],
   "source": [
    "FullySupervisedModel = Sequential()\n",
    "FullySupervisedModel.add(Dense(10, activation=\"sigmoid\", kernel_initializer=\"normal\", input_dim=3))\n",
    "FullySupervisedModel.add(Dense(1, activation=\"sigmoid\", kernel_initializer=\"normal\"))\n",
    "FullySupervisedModel.compile(loss='binary_crossentropy',optimizer=SGD(lr=0.01))"
   ]
  },
  {
   "cell_type": "markdown",
   "metadata": {},
   "source": [
    "### Weakly supervised\n",
    "Notice that we use the user-defined loss function here. This loss function was introduced in DNRS."
   ]
  },
  {
   "cell_type": "code",
   "execution_count": 18,
   "metadata": {
    "collapsed": true
   },
   "outputs": [],
   "source": [
    "more Functions/WeakCostFunction.py"
   ]
  },
  {
   "cell_type": "markdown",
   "metadata": {},
   "source": [
    "```\n",
    "def WeakSupervision(y_true, y_pred):\n",
    "    return K.abs((K.mean(y_pred, axis=-1) - K.mean(y_true, axis=-1)))\n",
    "```"
   ]
  },
  {
   "cell_type": "markdown",
   "metadata": {},
   "source": [
    "<img src=\"./cfo_fig2.png\"></img>"
   ]
  },
  {
   "cell_type": "markdown",
   "metadata": {},
   "source": [
    "So - each event carries a `y_true` that is found by averaging over the batch, using the labels assigned initially (based on the population fractions for the population the event was drawn from)."
   ]
  },
  {
   "cell_type": "code",
   "execution_count": 19,
   "metadata": {
    "collapsed": true
   },
   "outputs": [],
   "source": [
    "WeaklySupervisedModel= Sequential()\n",
    "WeaklySupervisedModel.add(Dense(30, activation=\"sigmoid\", kernel_initializer=\"normal\", input_dim=3))\n",
    "WeaklySupervisedModel.add(Dense(1, activation=\"sigmoid\", kernel_initializer=\"normal\"))\n",
    "WeaklySupervisedModel.compile(loss=WeakSupervision,optimizer=Adam(lr=0.0015))"
   ]
  },
  {
   "cell_type": "markdown",
   "metadata": {},
   "source": [
    "## Train the networks\n",
    "### Fully supervised\n",
    "The fully supervised networks are trained using the real labels, which contain either a 0 or a 1 for signal or background."
   ]
  },
  {
   "cell_type": "code",
   "execution_count": 20,
   "metadata": {},
   "outputs": [
    {
     "data": {
      "text/plain": [
       "array([ 1.,  0.,  1.,  0.,  0.,  1.,  1.,  0.,  0.,  1.])"
      ]
     },
     "execution_count": 20,
     "metadata": {},
     "output_type": "execute_result"
    }
   ],
   "source": [
    "# For example\n",
    "np.random.choice(y_train_Label, 10)"
   ]
  },
  {
   "cell_type": "code",
   "execution_count": 21,
   "metadata": {
    "collapsed": true
   },
   "outputs": [],
   "source": [
    "train_fullysupervised = False"
   ]
  },
  {
   "cell_type": "code",
   "execution_count": 22,
   "metadata": {
    "collapsed": true
   },
   "outputs": [],
   "source": [
    "# Add checkpoints\n",
    "if train_fullysupervised:\n",
    "    checkpointer = ModelCheckpoint('Data/KerasModelWeights/FullySupervisedDemo.h5', \n",
    "                                   monitor='val_loss',\n",
    "                                   save_best_only=True)\n",
    "    FullySupervisedModel.fit(x=x_trainScaled,\n",
    "                             y=y_train_Label,\n",
    "                             validation_data=(x_validScaled, y_valid_Label),\n",
    "                             epochs = 40,\n",
    "                             batch_size = 32,\n",
    "                             verbose = 1,\n",
    "                             callbacks=[checkpointer]\n",
    "                            )\n",
    "\n",
    "# note - the demo originally did not checkpoint and then load the best weights;\n",
    "# it just used whatever the last training result was...\n",
    "FullySupervisedModel.load_weights('Data/KerasModelWeights/FullySupervisedDemo.h5')"
   ]
  },
  {
   "cell_type": "markdown",
   "metadata": {},
   "source": [
    "### Weakly supervised\n",
    "The weakly supervised network does not know whether an individual event is signal or background. Instead, it only knows if it comes from dataset A or dataset B. The weak loss function, defined in [DNRS](http://arxiv.org/abs/1702.00414), compares the average prediction of the network with the average of the dataset fractions. "
   ]
  },
  {
   "cell_type": "code",
   "execution_count": 23,
   "metadata": {},
   "outputs": [
    {
     "data": {
      "text/plain": [
       "array([ 0.7,  0.7,  0.7,  0.4,  0.7,  0.4,  0.4,  0.4,  0.4,  0.4])"
      ]
     },
     "execution_count": 23,
     "metadata": {},
     "output_type": "execute_result"
    }
   ],
   "source": [
    "# For example\n",
    "np.random.choice(y_train_Fraction,10)"
   ]
  },
  {
   "cell_type": "code",
   "execution_count": 24,
   "metadata": {
    "collapsed": true
   },
   "outputs": [],
   "source": [
    "train_weaklysupervised = False"
   ]
  },
  {
   "cell_type": "code",
   "execution_count": 25,
   "metadata": {
    "collapsed": true
   },
   "outputs": [],
   "source": [
    "# Add checkpoints\n",
    "checkpointer = ModelCheckpoint('Data/KerasModelWeights/WeaklySupervisedDemo.h5', \n",
    "                          monitor='val_loss',\n",
    "                          save_best_only=True)\n",
    "es=EarlyStopping(monitor='val_loss', min_delta=0, patience=5, verbose=1, mode='auto') "
   ]
  },
  {
   "cell_type": "code",
   "execution_count": 26,
   "metadata": {
    "collapsed": true
   },
   "outputs": [],
   "source": [
    "if train_weaklysupervised:\n",
    "    WeaklySupervisedModel.fit(x=x_trainScaled,\n",
    "                              y=y_train_Fraction,\n",
    "                              validation_data=(x_validScaled, y_valid_Fraction),\n",
    "                              epochs=100,\n",
    "                              batch_size=32,\n",
    "                              verbose = 1,\n",
    "                              callbacks=[checkpointer, es]\n",
    "                             )\n",
    "    \n",
    "WeaklySupervisedModel.load_weights('Data/KerasModelWeights/WeaklySupervisedDemo.h5')"
   ]
  },
  {
   "cell_type": "markdown",
   "metadata": {},
   "source": [
    "## Testing the results\n",
    "Now that the models have been trained, lets see how well they do at classifying the test set. We will do this using the scikit-learn functions to get the ROC curve and the area under the curve."
   ]
  },
  {
   "cell_type": "markdown",
   "metadata": {},
   "source": [
    "### Make the predictions"
   ]
  },
  {
   "cell_type": "code",
   "execution_count": 27,
   "metadata": {
    "collapsed": true
   },
   "outputs": [],
   "source": [
    "FullySupervisedPredictions = FullySupervisedModel.predict(x_testScaled)"
   ]
  },
  {
   "cell_type": "code",
   "execution_count": 28,
   "metadata": {
    "collapsed": true
   },
   "outputs": [],
   "source": [
    "WeaklySupervisedPredictions = WeaklySupervisedModel.predict(x_testScaled)"
   ]
  },
  {
   "cell_type": "markdown",
   "metadata": {},
   "source": [
    "### ROC curves"
   ]
  },
  {
   "cell_type": "code",
   "execution_count": 29,
   "metadata": {
    "collapsed": true
   },
   "outputs": [],
   "source": [
    "FalsePositiveFull, TruePositiveFull, ThresholdFull = metrics.roc_curve(YTest,FullySupervisedPredictions)"
   ]
  },
  {
   "cell_type": "code",
   "execution_count": 30,
   "metadata": {
    "collapsed": true
   },
   "outputs": [],
   "source": [
    "FalsePositiveWeak, TruePositiveWeak, ThresholdWeak = metrics.roc_curve(YTest,WeaklySupervisedPredictions)"
   ]
  },
  {
   "cell_type": "markdown",
   "metadata": {},
   "source": [
    "### AUC"
   ]
  },
  {
   "cell_type": "code",
   "execution_count": 31,
   "metadata": {},
   "outputs": [
    {
     "name": "stdout",
     "output_type": "stream",
     "text": [
      "The area under the curves are:\n",
      "Full:0.97, Weak:0.96\n"
     ]
    }
   ],
   "source": [
    "AUCFull = metrics.auc(FalsePositiveFull,TruePositiveFull)\n",
    "AUCWeak = metrics.auc(FalsePositiveWeak,TruePositiveWeak)\n",
    "print \"The area under the curves are:\"\n",
    "print \"Full:{0:.2f}, Weak:{1:.2f}\".format(AUCFull, AUCWeak)"
   ]
  },
  {
   "cell_type": "markdown",
   "metadata": {},
   "source": [
    "### Plot the results"
   ]
  },
  {
   "cell_type": "code",
   "execution_count": 32,
   "metadata": {},
   "outputs": [
    {
     "name": "stderr",
     "output_type": "stream",
     "text": [
      "/Users/gnperdue/miniconda2/envs/py2tf/lib/python2.7/site-packages/matplotlib/mathtext.py:866: MathTextWarning: Font 'default' does not have a glyph for '-' [U+2212]\n",
      "  MathTextWarning)\n",
      "/Users/gnperdue/miniconda2/envs/py2tf/lib/python2.7/site-packages/matplotlib/mathtext.py:867: MathTextWarning: Substituting with a dummy symbol.\n",
      "  warn(\"Substituting with a dummy symbol.\", MathTextWarning)\n"
     ]
    },
    {
     "data": {
      "image/png": "[encoded data removed]",
      "text/plain": [
       "<matplotlib.figure.Figure at 0x121861d10>"
      ]
     },
     "metadata": {},
     "output_type": "display_data"
    }
   ],
   "source": [
    "plt.figure(figsize=(8.5,3.7))\n",
    "plt.subplot(1,2,1)\n",
    "\n",
    "plt.plot(FalsePositiveFull,TruePositiveFull)\n",
    "plt.plot(FalsePositiveWeak,TruePositiveWeak)\n",
    "plt.xlabel('False Positive Rate')\n",
    "plt.ylabel('True Positive Rate')\n",
    "plt.xlim(-.05,1)\n",
    "plt.ylim(0,1.05)\n",
    "\n",
    "plt.subplot(1,2,2)\n",
    "\n",
    "plt.plot(FalsePositiveFull,TruePositiveFull, label='Fully supervised: AUC={0:.2f}'.format(AUCFull))\n",
    "plt.plot(FalsePositiveWeak,TruePositiveWeak, label='Weakly supervised: AUC={0:.2f}'.format(AUCWeak))\n",
    "plt.xlabel('False Positive Rate')\n",
    "plt.ylabel('True Positive Rate')\n",
    "plt.xscale('log')\n",
    "plt.legend(bbox_to_anchor=(1, -0.17),ncol=2)\n",
    "plt.tight_layout()"
   ]
  },
  {
   "cell_type": "markdown",
   "metadata": {},
   "source": [
    "These plots have the same information, but the one on the left has linear scales, while the one on the right has a log scale for the x-axis. Even though it looks like the AUCs are very similar for the two, at high purity samples (very low false positive rates) the true positve rate have be very different."
   ]
  },
  {
   "cell_type": "code",
   "execution_count": null,
   "metadata": {
    "collapsed": true
   },
   "outputs": [],
   "source": []
  }
 ],
 "metadata": {
  "anaconda-cloud": {},
  "kernelspec": {
   "display_name": "Python 2",
   "language": "python",
   "name": "python2"
  },
  "language_info": {
   "codemirror_mode": {
    "name": "ipython",
    "version": 2
   },
   "file_extension": ".py",
   "mimetype": "text/x-python",
   "name": "python",
   "nbconvert_exporter": "python",
   "pygments_lexer": "ipython2",
   "version": "2.7.13"
  },
  "toc": {
   "colors": {
    "hover_highlight": "#DAA520",
    "navigate_num": "#000000",
    "navigate_text": "#333333",
    "running_highlight": "#FF0000",
    "selected_highlight": "#FFD700",
    "sidebar_border": "#EEEEEE",
    "wrapper_background": "#FFFFFF"
   },
   "moveMenuLeft": true,
   "nav_menu": {
    "height": "48px",
    "width": "252px"
   },
   "navigate_menu": true,
   "number_sections": true,
   "sideBar": true,
   "threshold": 4,
   "toc_cell": true,
   "toc_position": {
    "height": "657px",
    "left": "0px",
    "right": "auto",
    "top": "106px",
    "width": "245px"
   },
   "toc_section_display": "block",
   "toc_window_display": true,
   "widenNotebook": false
  }
 },
 "nbformat": 4,
 "nbformat_minor": 1
}
