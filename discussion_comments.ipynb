{
 "cells": [
  {
   "cell_type": "markdown",
   "metadata": {},
   "source": [
    "## Loss Functions"
   ]
  },
  {
   "cell_type": "markdown",
   "metadata": {},
   "source": [
    "For the fully supervised network, the loss function employed is the \"classic\" binary cross entropy:"
   ]
  },
  {
   "cell_type": "markdown",
   "metadata": {},
   "source": [
    "\\begin{equation}\n",
    "\\mathcal{l}_{\\text{BCE}}(\\{y_t\\}, \\{y_p\\}) = \\sum_{i \\in \\text{samples}} \\left[ y_{t,i} \\log \\frac{1}{y_{p,i}} + (1 - y_{t,i}) \\log \\frac{1}{1 - y_{p,i}} \\right]\n",
    "\\end{equation}"
   ]
  },
  {
   "cell_type": "markdown",
   "metadata": {},
   "source": [
    "For more on the cross-entropy and why it is used as a loss function, see [this notebook](https://github.com/gnperdue/JupyterNotebooks/blob/master/loss_functions.ipynb). One nice feature (discussed in the paper) about the function is it penalizes incorrect guesses more when the network is more confident in them."
   ]
  },
  {
   "cell_type": "markdown",
   "metadata": {},
   "source": [
    "For the weakly supervised network, instead of using the \"true\" label for each event, we use a batch average, where the numbers averaged are the population averages for the groups from which the event was drawn:\n",
    "\n",
    "<img src=\"./cfo_fig2.png\"></img>"
   ]
  },
  {
   "cell_type": "markdown",
   "metadata": {},
   "source": [
    "Datasets A and B are naturally formed in an HEP analysis (signal-rich and background-rich (i.e., \"sideband\" regions), but it is obvious (by inspection) we could have more than two - we could also \"manufacture\" multiple sets from one, so the requirement of two or more is not actually stringent in any sense."
   ]
  },
  {
   "cell_type": "markdown",
   "metadata": {},
   "source": [
    "Here, the loss function is:\n",
    "\n",
    "\\begin{equation}\n",
    "\\mathcal{l}_{\\text{weak}}(\\{f_t\\}, \\{y_p\\}) = \\left| \\langle f_{t,i} \\rangle - \\langle y_{p,i} \\rangle \\right|\n",
    "\\end{equation}\n",
    "\n",
    "where $y_p$ is still the network prediction, and $f_t$ is the batch average pictured above."
   ]
  },
  {
   "cell_type": "code",
   "execution_count": null,
   "metadata": {
    "collapsed": true
   },
   "outputs": [],
   "source": []
  }
 ],
 "metadata": {
  "kernelspec": {
   "display_name": "Python 2",
   "language": "python",
   "name": "python2"
  },
  "language_info": {
   "codemirror_mode": {
    "name": "ipython",
    "version": 2
   },
   "file_extension": ".py",
   "mimetype": "text/x-python",
   "name": "python",
   "nbconvert_exporter": "python",
   "pygments_lexer": "ipython2",
   "version": "2.7.13"
  }
 },
 "nbformat": 4,
 "nbformat_minor": 2
}
